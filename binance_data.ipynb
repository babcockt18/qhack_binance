{
 "cells": [
  {
   "cell_type": "code",
   "execution_count": 1,
   "id": "b3d0d815",
   "metadata": {},
   "outputs": [
    {
     "name": "stdout",
     "output_type": "stream",
     "text": [
      "Collecting binance-connector\n",
      "  Downloading binance_connector-1.11.0-py3-none-any.whl (44 kB)\n",
      "\u001b[K     |████████████████████████████████| 44 kB 4.3 MB/s  eta 0:00:01\n",
      "\u001b[?25hCollecting Twisted>=21.2.0\n",
      "  Downloading Twisted-22.1.0-py3-none-any.whl (3.1 MB)\n",
      "\u001b[K     |████████████████████████████████| 3.1 MB 51.6 MB/s eta 0:00:01\n",
      "\u001b[?25hCollecting pyOpenSSL>=19.0.0\n",
      "  Downloading pyOpenSSL-22.0.0-py2.py3-none-any.whl (55 kB)\n",
      "\u001b[K     |████████████████████████████████| 55 kB 6.9 MB/s  eta 0:00:01\n",
      "\u001b[?25hCollecting autobahn>=21.2.1\n",
      "  Downloading autobahn-22.2.2.tar.gz (375 kB)\n",
      "\u001b[K     |████████████████████████████████| 375 kB 79.1 MB/s eta 0:00:01\n",
      "\u001b[?25hCollecting service-identity>=21.1.0\n",
      "  Downloading service_identity-21.1.0-py2.py3-none-any.whl (12 kB)\n",
      "Requirement already satisfied: requests>=2.25.1 in /home/ec2-user/anaconda3/envs/Braket/lib/python3.7/site-packages (from binance-connector) (2.27.1)\n",
      "Collecting txaio>=21.2.1\n",
      "  Downloading txaio-22.2.1-py2.py3-none-any.whl (30 kB)\n",
      "Collecting cryptography>=3.4.6\n",
      "  Using cached cryptography-36.0.1-cp36-abi3-manylinux_2_17_x86_64.manylinux2014_x86_64.whl (3.8 MB)\n",
      "Collecting hyperlink>=21.0.0\n",
      "  Downloading hyperlink-21.0.0-py2.py3-none-any.whl (74 kB)\n",
      "\u001b[K     |████████████████████████████████| 74 kB 5.9 MB/s  eta 0:00:01\n",
      "\u001b[?25hRequirement already satisfied: setuptools in /home/ec2-user/anaconda3/envs/Braket/lib/python3.7/site-packages (from autobahn>=21.2.1->binance-connector) (58.0.4)\n",
      "Collecting cffi>=1.12\n",
      "  Downloading cffi-1.15.0-cp37-cp37m-manylinux_2_12_x86_64.manylinux2010_x86_64.whl (427 kB)\n",
      "\u001b[K     |████████████████████████████████| 427 kB 86.6 MB/s eta 0:00:01\n",
      "\u001b[?25hCollecting pycparser\n",
      "  Downloading pycparser-2.21-py2.py3-none-any.whl (118 kB)\n",
      "\u001b[K     |████████████████████████████████| 118 kB 82.6 MB/s eta 0:00:01\n",
      "\u001b[?25hRequirement already satisfied: idna>=2.5 in /home/ec2-user/anaconda3/envs/Braket/lib/python3.7/site-packages (from hyperlink>=21.0.0->autobahn>=21.2.1->binance-connector) (2.10)\n",
      "Requirement already satisfied: urllib3<1.27,>=1.21.1 in /home/ec2-user/anaconda3/envs/Braket/lib/python3.7/site-packages (from requests>=2.25.1->binance-connector) (1.26.8)\n",
      "Requirement already satisfied: certifi>=2017.4.17 in /home/ec2-user/anaconda3/envs/Braket/lib/python3.7/site-packages (from requests>=2.25.1->binance-connector) (2021.10.8)\n",
      "Requirement already satisfied: charset-normalizer~=2.0.0 in /home/ec2-user/anaconda3/envs/Braket/lib/python3.7/site-packages (from requests>=2.25.1->binance-connector) (2.0.12)\n",
      "Requirement already satisfied: pyasn1 in /home/ec2-user/anaconda3/envs/Braket/lib/python3.7/site-packages (from service-identity>=21.1.0->binance-connector) (0.4.8)\n",
      "Requirement already satisfied: pyasn1-modules in /home/ec2-user/anaconda3/envs/Braket/lib/python3.7/site-packages (from service-identity>=21.1.0->binance-connector) (0.2.8)\n",
      "Requirement already satisfied: six in /home/ec2-user/anaconda3/envs/Braket/lib/python3.7/site-packages (from service-identity>=21.1.0->binance-connector) (1.15.0)\n",
      "Requirement already satisfied: attrs>=19.1.0 in /home/ec2-user/anaconda3/envs/Braket/lib/python3.7/site-packages (from service-identity>=21.1.0->binance-connector) (21.4.0)\n",
      "Collecting Automat>=0.8.0\n",
      "  Downloading Automat-20.2.0-py2.py3-none-any.whl (31 kB)\n",
      "Requirement already satisfied: typing-extensions>=3.6.5 in /home/ec2-user/anaconda3/envs/Braket/lib/python3.7/site-packages (from Twisted>=21.2.0->binance-connector) (3.7.4.3)\n",
      "Collecting constantly>=15.1\n",
      "  Downloading constantly-15.1.0-py2.py3-none-any.whl (7.9 kB)\n",
      "Collecting zope.interface>=4.4.2\n",
      "  Downloading zope.interface-5.4.0-cp37-cp37m-manylinux2010_x86_64.whl (251 kB)\n",
      "\u001b[K     |████████████████████████████████| 251 kB 83.8 MB/s eta 0:00:01\n",
      "\u001b[?25hCollecting incremental>=21.3.0\n",
      "  Downloading incremental-21.3.0-py2.py3-none-any.whl (15 kB)\n",
      "Building wheels for collected packages: autobahn\n",
      "  Building wheel for autobahn (setup.py) ... \u001b[?25ldone\n",
      "\u001b[?25h  Created wheel for autobahn: filename=autobahn-22.2.2-py2.py3-none-any.whl size=520947 sha256=b94001ec193b1a9063ad9e97da853277e4bccef25d5e1e5a7695036afa467d84\n",
      "  Stored in directory: /home/ec2-user/.cache/pip/wheels/f8/ed/cc/ecc2f312adf884a2496272952ea3acf7c11417c56f64c9bdb8\n",
      "Successfully built autobahn\n",
      "Installing collected packages: pycparser, cffi, zope.interface, txaio, incremental, hyperlink, cryptography, constantly, Automat, Twisted, service-identity, pyOpenSSL, autobahn, binance-connector\n",
      "Successfully installed Automat-20.2.0 Twisted-22.1.0 autobahn-22.2.2 binance-connector-1.11.0 cffi-1.15.0 constantly-15.1.0 cryptography-36.0.1 hyperlink-21.0.0 incremental-21.3.0 pyOpenSSL-22.0.0 pycparser-2.21 service-identity-21.1.0 txaio-22.2.1 zope.interface-5.4.0\n",
      "Note: you may need to restart the kernel to use updated packages.\n"
     ]
    }
   ],
   "source": [
    "pip install binance-connector"
   ]
  },
  {
   "cell_type": "code",
   "execution_count": null,
   "id": "df2acbff",
   "metadata": {},
   "outputs": [],
   "source": [
    "pip install binance-connector"
   ]
  },
  {
   "cell_type": "code",
   "execution_count": null,
   "id": "1734a18e",
   "metadata": {},
   "outputs": [],
   "source": [
    "pip install CPLEX\n",
    "pip install python-binance\n",
    "pip install docplex\n",
    "pip install dwave-ocean-sdk\n",
    "pip install pandas --upgrade"
   ]
  },
  {
   "cell_type": "code",
   "execution_count": 7,
   "id": "486e0d56",
   "metadata": {},
   "outputs": [
    {
     "name": "stdout",
     "output_type": "stream",
     "text": [
      "Requirement already satisfied: dimod in /home/ec2-user/anaconda3/envs/Braket/lib/python3.7/site-packages (0.9.13)\n",
      "Collecting dimod\n",
      "  Using cached dimod-0.10.14-cp37-cp37m-manylinux_2_12_x86_64.manylinux2010_x86_64.whl (13.0 MB)\n",
      "Requirement already satisfied: numpy<2.0.0,>=1.19.1 in /home/ec2-user/anaconda3/envs/Braket/lib/python3.7/site-packages (from dimod) (1.19.2)\n",
      "Requirement already satisfied: pyparsing<3.0.0,>=2.4.7 in /home/ec2-user/anaconda3/envs/Braket/lib/python3.7/site-packages (from dimod) (2.4.7)\n",
      "Installing collected packages: dimod\n",
      "  Attempting uninstall: dimod\n",
      "    Found existing installation: dimod 0.9.13\n",
      "    Uninstalling dimod-0.9.13:\n",
      "      Successfully uninstalled dimod-0.9.13\n",
      "\u001b[31mERROR: pip's dependency resolver does not currently take into account all the packages that are installed. This behaviour is the source of the following dependency conflicts.\n",
      "penaltymodel 0.16.4 requires dimod<0.10.0,>=0.6.3, but you have dimod 0.10.14 which is incompatible.\n",
      "penaltymodel-mip 0.2.4 requires dimod<0.10.0,>=0.6.0, but you have dimod 0.10.14 which is incompatible.\n",
      "penaltymodel-lp 0.1.4 requires dimod<0.10.0,>=0.6.0, but you have dimod 0.10.14 which is incompatible.\n",
      "penaltymodel-cache 0.4.3 requires dimod<0.10.0,>=0.6.0, but you have dimod 0.10.14 which is incompatible.\n",
      "dwavebinarycsp 0.1.2 requires dimod<0.10.0,>=0.6.7, but you have dimod 0.10.14 which is incompatible.\n",
      "dwave-system 1.4.0 requires dimod<0.10.0,>=0.9.11, but you have dimod 0.10.14 which is incompatible.\n",
      "dwave-qbsolv 0.3.2 requires dimod<0.10.0,>=0.8.1, but you have dimod 0.10.14 which is incompatible.\n",
      "dwave-ocean-sdk 3.3.0 requires dimod==0.9.13, but you have dimod 0.10.14 which is incompatible.\n",
      "dwave-greedy 0.1.2 requires dimod<0.10.0,>=0.9.2, but you have dimod 0.10.14 which is incompatible.\u001b[0m\n",
      "Successfully installed dimod-0.10.14\n",
      "Note: you may need to restart the kernel to use updated packages.\n"
     ]
    }
   ],
   "source": [
    "pip install dimod --upgrade"
   ]
  },
  {
   "cell_type": "code",
   "execution_count": 3,
   "id": "5f2e1a97",
   "metadata": {},
   "outputs": [
    {
     "name": "stdout",
     "output_type": "stream",
     "text": [
      "Collecting CPLEX\n",
      "  Downloading cplex-20.1.0.3-cp37-cp37m-manylinux1_x86_64.whl (30.9 MB)\n",
      "\u001b[K     |████████████████████████████████| 30.9 MB 15.9 MB/s eta 0:00:01\n",
      "\u001b[?25hInstalling collected packages: CPLEX\n",
      "Successfully installed CPLEX-20.1.0.3\n",
      "Note: you may need to restart the kernel to use updated packages.\n"
     ]
    }
   ],
   "source": [
    "pip install CPLEX"
   ]
  },
  {
   "cell_type": "code",
   "execution_count": 4,
   "id": "eb50322f",
   "metadata": {},
   "outputs": [
    {
     "name": "stdout",
     "output_type": "stream",
     "text": [
      "Collecting python-binance\n",
      "  Downloading python_binance-1.0.15-py2.py3-none-any.whl (63 kB)\n",
      "\u001b[K     |████████████████████████████████| 63 kB 3.7 MB/s  eta 0:00:01\n",
      "\u001b[?25hCollecting aiohttp\n",
      "  Downloading aiohttp-3.8.1-cp37-cp37m-manylinux_2_5_x86_64.manylinux1_x86_64.manylinux_2_12_x86_64.manylinux2010_x86_64.whl (1.1 MB)\n",
      "\u001b[K     |████████████████████████████████| 1.1 MB 66.9 MB/s eta 0:00:01\n",
      "\u001b[?25hCollecting ujson\n",
      "  Downloading ujson-5.1.0-cp37-cp37m-manylinux_2_17_x86_64.manylinux2014_x86_64.whl (43 kB)\n",
      "\u001b[K     |████████████████████████████████| 43 kB 3.5 MB/s  eta 0:00:01\n",
      "\u001b[?25hCollecting dateparser\n",
      "  Downloading dateparser-1.1.0-py2.py3-none-any.whl (288 kB)\n",
      "\u001b[K     |████████████████████████████████| 288 kB 79.8 MB/s eta 0:00:01\n",
      "\u001b[?25hRequirement already satisfied: six in /home/ec2-user/anaconda3/envs/Braket/lib/python3.7/site-packages (from python-binance) (1.15.0)\n",
      "Collecting websockets==9.1\n",
      "  Downloading websockets-9.1-cp37-cp37m-manylinux2010_x86_64.whl (103 kB)\n",
      "\u001b[K     |████████████████████████████████| 103 kB 85.3 MB/s eta 0:00:01\n",
      "\u001b[?25hRequirement already satisfied: requests in /home/ec2-user/anaconda3/envs/Braket/lib/python3.7/site-packages (from python-binance) (2.27.1)\n",
      "Collecting asynctest==0.13.0\n",
      "  Downloading asynctest-0.13.0-py3-none-any.whl (26 kB)\n",
      "Collecting async-timeout<5.0,>=4.0.0a3\n",
      "  Downloading async_timeout-4.0.2-py3-none-any.whl (5.8 kB)\n",
      "Requirement already satisfied: charset-normalizer<3.0,>=2.0 in /home/ec2-user/anaconda3/envs/Braket/lib/python3.7/site-packages (from aiohttp->python-binance) (2.0.12)\n",
      "Requirement already satisfied: typing-extensions>=3.7.4 in /home/ec2-user/anaconda3/envs/Braket/lib/python3.7/site-packages (from aiohttp->python-binance) (3.7.4.3)\n",
      "Requirement already satisfied: attrs>=17.3.0 in /home/ec2-user/anaconda3/envs/Braket/lib/python3.7/site-packages (from aiohttp->python-binance) (21.4.0)\n",
      "Collecting yarl<2.0,>=1.0\n",
      "  Downloading yarl-1.7.2-cp37-cp37m-manylinux_2_5_x86_64.manylinux1_x86_64.manylinux_2_12_x86_64.manylinux2010_x86_64.whl (271 kB)\n",
      "\u001b[K     |████████████████████████████████| 271 kB 84.3 MB/s eta 0:00:01\n",
      "\u001b[?25hCollecting frozenlist>=1.1.1\n",
      "  Downloading frozenlist-1.3.0-cp37-cp37m-manylinux_2_5_x86_64.manylinux1_x86_64.manylinux_2_17_x86_64.manylinux2014_x86_64.whl (144 kB)\n",
      "\u001b[K     |████████████████████████████████| 144 kB 80.4 MB/s eta 0:00:01\n",
      "\u001b[?25hCollecting aiosignal>=1.1.2\n",
      "  Downloading aiosignal-1.2.0-py3-none-any.whl (8.2 kB)\n",
      "Collecting multidict<7.0,>=4.5\n",
      "  Downloading multidict-6.0.2-cp37-cp37m-manylinux_2_17_x86_64.manylinux2014_x86_64.whl (94 kB)\n",
      "\u001b[K     |████████████████████████████████| 94 kB 5.3 MB/s  eta 0:00:01\n",
      "\u001b[?25hRequirement already satisfied: idna>=2.0 in /home/ec2-user/anaconda3/envs/Braket/lib/python3.7/site-packages (from yarl<2.0,>=1.0->aiohttp->python-binance) (2.10)\n",
      "Collecting regex!=2019.02.19,!=2021.8.27\n",
      "  Downloading regex-2022.1.18-cp37-cp37m-manylinux_2_17_x86_64.manylinux2014_x86_64.whl (748 kB)\n",
      "\u001b[K     |████████████████████████████████| 748 kB 64.2 MB/s eta 0:00:01\n",
      "\u001b[?25hRequirement already satisfied: pytz in /home/ec2-user/anaconda3/envs/Braket/lib/python3.7/site-packages (from dateparser->python-binance) (2021.3)\n",
      "Requirement already satisfied: python-dateutil in /home/ec2-user/anaconda3/envs/Braket/lib/python3.7/site-packages (from dateparser->python-binance) (2.8.2)\n",
      "Collecting tzlocal\n",
      "  Downloading tzlocal-4.1-py3-none-any.whl (19 kB)\n",
      "Requirement already satisfied: urllib3<1.27,>=1.21.1 in /home/ec2-user/anaconda3/envs/Braket/lib/python3.7/site-packages (from requests->python-binance) (1.26.8)\n",
      "Requirement already satisfied: certifi>=2017.4.17 in /home/ec2-user/anaconda3/envs/Braket/lib/python3.7/site-packages (from requests->python-binance) (2021.10.8)\n",
      "Collecting pytz-deprecation-shim\n",
      "  Downloading pytz_deprecation_shim-0.1.0.post0-py2.py3-none-any.whl (15 kB)\n",
      "Collecting backports.zoneinfo\n",
      "  Downloading backports.zoneinfo-0.2.1-cp37-cp37m-manylinux1_x86_64.whl (70 kB)\n",
      "\u001b[K     |████████████████████████████████| 70 kB 15.2 MB/s eta 0:00:01\n",
      "\u001b[?25hCollecting tzdata\n",
      "  Downloading tzdata-2021.5-py2.py3-none-any.whl (339 kB)\n",
      "\u001b[K     |████████████████████████████████| 339 kB 81.8 MB/s eta 0:00:01\n",
      "\u001b[?25hInstalling collected packages: tzdata, backports.zoneinfo, pytz-deprecation-shim, multidict, frozenlist, yarl, tzlocal, regex, asynctest, async-timeout, aiosignal, websockets, ujson, dateparser, aiohttp, python-binance\n",
      "Successfully installed aiohttp-3.8.1 aiosignal-1.2.0 async-timeout-4.0.2 asynctest-0.13.0 backports.zoneinfo-0.2.1 dateparser-1.1.0 frozenlist-1.3.0 multidict-6.0.2 python-binance-1.0.15 pytz-deprecation-shim-0.1.0.post0 regex-2022.1.18 tzdata-2021.5 tzlocal-4.1 ujson-5.1.0 websockets-9.1 yarl-1.7.2\n",
      "Note: you may need to restart the kernel to use updated packages.\n"
     ]
    }
   ],
   "source": [
    "pip install python-binance"
   ]
  },
  {
   "cell_type": "code",
   "execution_count": 5,
   "id": "656cf7ae",
   "metadata": {},
   "outputs": [
    {
     "name": "stdout",
     "output_type": "stream",
     "text": [
      "Collecting docplex\n",
      "  Downloading docplex-2.22.213.tar.gz (634 kB)\n",
      "\u001b[K     |████████████████████████████████| 634 kB 21.9 MB/s eta 0:00:01\n",
      "\u001b[?25hRequirement already satisfied: six in /home/ec2-user/anaconda3/envs/Braket/lib/python3.7/site-packages (from docplex) (1.15.0)\n",
      "Building wheels for collected packages: docplex\n",
      "  Building wheel for docplex (setup.py) ... \u001b[?25ldone\n",
      "\u001b[?25h  Created wheel for docplex: filename=docplex-2.22.213-py3-none-any.whl size=696882 sha256=3c682a6d80b9ab92c481b43f85f67dd1e6b5675786552a0d1122f99f3286dc45\n",
      "  Stored in directory: /home/ec2-user/.cache/pip/wheels/90/69/6b/1375c68a5b7ff94c40263b151c86f58bd72200bf0c465b5ba3\n",
      "Successfully built docplex\n",
      "Installing collected packages: docplex\n",
      "Successfully installed docplex-2.22.213\n",
      "Note: you may need to restart the kernel to use updated packages.\n"
     ]
    }
   ],
   "source": [
    "pip install docplex"
   ]
  },
  {
   "cell_type": "code",
   "execution_count": 6,
   "id": "80737c64",
   "metadata": {},
   "outputs": [
    {
     "name": "stdout",
     "output_type": "stream",
     "text": [
      "Requirement already satisfied: dwave-ocean-sdk in /home/ec2-user/anaconda3/envs/Braket/lib/python3.7/site-packages (3.3.0)\n",
      "Requirement already satisfied: dwave-neal==0.5.7 in /home/ec2-user/anaconda3/envs/Braket/lib/python3.7/site-packages (from dwave-ocean-sdk) (0.5.7)\n",
      "Requirement already satisfied: dwave-qbsolv==0.3.2 in /home/ec2-user/anaconda3/envs/Braket/lib/python3.7/site-packages (from dwave-ocean-sdk) (0.3.2)\n",
      "Requirement already satisfied: penaltymodel-mip==0.2.4 in /home/ec2-user/anaconda3/envs/Braket/lib/python3.7/site-packages (from dwave-ocean-sdk) (0.2.4)\n",
      "Requirement already satisfied: dwave-inspector==0.2.5 in /home/ec2-user/anaconda3/envs/Braket/lib/python3.7/site-packages (from dwave-ocean-sdk) (0.2.5)\n",
      "Requirement already satisfied: dwave-hybrid==0.6.1 in /home/ec2-user/anaconda3/envs/Braket/lib/python3.7/site-packages (from dwave-ocean-sdk) (0.6.1)\n",
      "Requirement already satisfied: dwave-networkx==0.8.8 in /home/ec2-user/anaconda3/envs/Braket/lib/python3.7/site-packages (from dwave-ocean-sdk) (0.8.8)\n",
      "Requirement already satisfied: dwave-cloud-client==0.8.4 in /home/ec2-user/anaconda3/envs/Braket/lib/python3.7/site-packages (from dwave-ocean-sdk) (0.8.4)\n",
      "Collecting dimod==0.9.13\n",
      "  Downloading dimod-0.9.13-cp37-cp37m-manylinux1_x86_64.whl (7.0 MB)\n",
      "\u001b[K     |████████████████████████████████| 7.0 MB 24.4 MB/s eta 0:00:01\n",
      "\u001b[?25hRequirement already satisfied: dwave-system==1.4.0 in /home/ec2-user/anaconda3/envs/Braket/lib/python3.7/site-packages (from dwave-ocean-sdk) (1.4.0)\n",
      "Requirement already satisfied: pyqubo==1.0.10 in /home/ec2-user/anaconda3/envs/Braket/lib/python3.7/site-packages (from dwave-ocean-sdk) (1.0.10)\n",
      "Requirement already satisfied: dwave-tabu==0.3.1 in /home/ec2-user/anaconda3/envs/Braket/lib/python3.7/site-packages (from dwave-ocean-sdk) (0.3.1)\n",
      "Requirement already satisfied: penaltymodel==0.16.4 in /home/ec2-user/anaconda3/envs/Braket/lib/python3.7/site-packages (from dwave-ocean-sdk) (0.16.4)\n",
      "Requirement already satisfied: dwave-greedy==0.1.2 in /home/ec2-user/anaconda3/envs/Braket/lib/python3.7/site-packages (from dwave-ocean-sdk) (0.1.2)\n",
      "Requirement already satisfied: dwavebinarycsp==0.1.2 in /home/ec2-user/anaconda3/envs/Braket/lib/python3.7/site-packages (from dwave-ocean-sdk) (0.1.2)\n",
      "Requirement already satisfied: penaltymodel-cache==0.4.3 in /home/ec2-user/anaconda3/envs/Braket/lib/python3.7/site-packages (from dwave-ocean-sdk) (0.4.3)\n",
      "Requirement already satisfied: penaltymodel-lp==0.1.4 in /home/ec2-user/anaconda3/envs/Braket/lib/python3.7/site-packages (from dwave-ocean-sdk) (0.1.4)\n",
      "Requirement already satisfied: minorminer==0.2.5 in /home/ec2-user/anaconda3/envs/Braket/lib/python3.7/site-packages (from dwave-ocean-sdk) (0.2.5)\n",
      "Requirement already satisfied: numpy<2.0.0,>=1.17.3 in /home/ec2-user/anaconda3/envs/Braket/lib/python3.7/site-packages (from dimod==0.9.13->dwave-ocean-sdk) (1.19.2)\n",
      "Requirement already satisfied: python-dateutil>=2.7 in /home/ec2-user/anaconda3/envs/Braket/lib/python3.7/site-packages (from dwave-cloud-client==0.8.4->dwave-ocean-sdk) (2.8.2)\n",
      "Requirement already satisfied: homebase>=1.0 in /home/ec2-user/anaconda3/envs/Braket/lib/python3.7/site-packages (from dwave-cloud-client==0.8.4->dwave-ocean-sdk) (1.0.1)\n",
      "Requirement already satisfied: requests[socks]>=2.18 in /home/ec2-user/anaconda3/envs/Braket/lib/python3.7/site-packages (from dwave-cloud-client==0.8.4->dwave-ocean-sdk) (2.27.1)\n",
      "Requirement already satisfied: click>=7.0 in /home/ec2-user/anaconda3/envs/Braket/lib/python3.7/site-packages (from dwave-cloud-client==0.8.4->dwave-ocean-sdk) (7.1.2)\n",
      "Requirement already satisfied: plucky>=0.4.3 in /home/ec2-user/anaconda3/envs/Braket/lib/python3.7/site-packages (from dwave-cloud-client==0.8.4->dwave-ocean-sdk) (0.4.3)\n",
      "Requirement already satisfied: networkx in /home/ec2-user/anaconda3/envs/Braket/lib/python3.7/site-packages (from dwave-hybrid==0.6.1->dwave-ocean-sdk) (2.4)\n",
      "Requirement already satisfied: Flask>=1.1.1 in /home/ec2-user/anaconda3/envs/Braket/lib/python3.7/site-packages (from dwave-inspector==0.2.5->dwave-ocean-sdk) (1.1.4)\n",
      "Requirement already satisfied: importlib-resources>=3.2.0 in /home/ec2-user/anaconda3/envs/Braket/lib/python3.7/site-packages (from dwave-inspector==0.2.5->dwave-ocean-sdk) (5.4.0)\n",
      "Requirement already satisfied: decorator<5.0.0,>=4.1.0 in /home/ec2-user/anaconda3/envs/Braket/lib/python3.7/site-packages (from dwave-networkx==0.8.8->dwave-ocean-sdk) (4.4.0)\n",
      "Requirement already satisfied: six<2.0.0,>=1.11.0 in /home/ec2-user/anaconda3/envs/Braket/lib/python3.7/site-packages (from dwavebinarycsp==0.1.2->dwave-ocean-sdk) (1.15.0)\n",
      "Requirement already satisfied: scipy in /home/ec2-user/anaconda3/envs/Braket/lib/python3.7/site-packages (from minorminer==0.2.5->dwave-ocean-sdk) (1.5.2)\n",
      "Requirement already satisfied: fasteners in /home/ec2-user/anaconda3/envs/Braket/lib/python3.7/site-packages (from minorminer==0.2.5->dwave-ocean-sdk) (0.17.3)\n",
      "Requirement already satisfied: ortools<9.0.0,>=6.6.4659 in /home/ec2-user/anaconda3/envs/Braket/lib/python3.7/site-packages (from penaltymodel-mip==0.2.4->dwave-ocean-sdk) (7.8.7959)\n",
      "Requirement already satisfied: Deprecated>=1.2.10 in /home/ec2-user/anaconda3/envs/Braket/lib/python3.7/site-packages (from pyqubo==1.0.10->dwave-ocean-sdk) (1.2.13)\n",
      "Requirement already satisfied: wrapt<2,>=1.10 in /home/ec2-user/anaconda3/envs/Braket/lib/python3.7/site-packages (from Deprecated>=1.2.10->pyqubo==1.0.10->dwave-ocean-sdk) (1.12.1)\n",
      "Requirement already satisfied: itsdangerous<2.0,>=0.24 in /home/ec2-user/anaconda3/envs/Braket/lib/python3.7/site-packages (from Flask>=1.1.1->dwave-inspector==0.2.5->dwave-ocean-sdk) (1.1.0)\n",
      "Requirement already satisfied: Jinja2<3.0,>=2.10.1 in /home/ec2-user/anaconda3/envs/Braket/lib/python3.7/site-packages (from Flask>=1.1.1->dwave-inspector==0.2.5->dwave-ocean-sdk) (2.11.3)\n",
      "Requirement already satisfied: Werkzeug<2.0,>=0.15 in /home/ec2-user/anaconda3/envs/Braket/lib/python3.7/site-packages (from Flask>=1.1.1->dwave-inspector==0.2.5->dwave-ocean-sdk) (1.0.1)\n",
      "Requirement already satisfied: zipp>=3.1.0 in /home/ec2-user/anaconda3/envs/Braket/lib/python3.7/site-packages (from importlib-resources>=3.2.0->dwave-inspector==0.2.5->dwave-ocean-sdk) (3.7.0)\n",
      "Requirement already satisfied: MarkupSafe>=0.23 in /home/ec2-user/anaconda3/envs/Braket/lib/python3.7/site-packages (from Jinja2<3.0,>=2.10.1->Flask>=1.1.1->dwave-inspector==0.2.5->dwave-ocean-sdk) (1.1.1)\n",
      "Requirement already satisfied: protobuf>=3.12.2 in /home/ec2-user/anaconda3/envs/Braket/lib/python3.7/site-packages (from ortools<9.0.0,>=6.6.4659->penaltymodel-mip==0.2.4->dwave-ocean-sdk) (3.12.4)\n",
      "Requirement already satisfied: setuptools in /home/ec2-user/anaconda3/envs/Braket/lib/python3.7/site-packages (from protobuf>=3.12.2->ortools<9.0.0,>=6.6.4659->penaltymodel-mip==0.2.4->dwave-ocean-sdk) (58.0.4)\n",
      "Requirement already satisfied: certifi>=2017.4.17 in /home/ec2-user/anaconda3/envs/Braket/lib/python3.7/site-packages (from requests[socks]>=2.18->dwave-cloud-client==0.8.4->dwave-ocean-sdk) (2021.10.8)\n",
      "Requirement already satisfied: urllib3<1.27,>=1.21.1 in /home/ec2-user/anaconda3/envs/Braket/lib/python3.7/site-packages (from requests[socks]>=2.18->dwave-cloud-client==0.8.4->dwave-ocean-sdk) (1.26.8)\n",
      "Requirement already satisfied: idna<4,>=2.5 in /home/ec2-user/anaconda3/envs/Braket/lib/python3.7/site-packages (from requests[socks]>=2.18->dwave-cloud-client==0.8.4->dwave-ocean-sdk) (2.10)\n",
      "Requirement already satisfied: charset-normalizer~=2.0.0 in /home/ec2-user/anaconda3/envs/Braket/lib/python3.7/site-packages (from requests[socks]>=2.18->dwave-cloud-client==0.8.4->dwave-ocean-sdk) (2.0.12)\n",
      "Requirement already satisfied: PySocks!=1.5.7,>=1.5.6 in /home/ec2-user/anaconda3/envs/Braket/lib/python3.7/site-packages (from requests[socks]>=2.18->dwave-cloud-client==0.8.4->dwave-ocean-sdk) (1.7.1)\n",
      "Installing collected packages: dimod\n",
      "  Attempting uninstall: dimod\n",
      "    Found existing installation: dimod 0.10.14\n",
      "    Uninstalling dimod-0.10.14:\n",
      "      Successfully uninstalled dimod-0.10.14\n",
      "Successfully installed dimod-0.9.13\n",
      "Note: you may need to restart the kernel to use updated packages.\n"
     ]
    }
   ],
   "source": [
    "pip install dwave-ocean-sdk"
   ]
  },
  {
   "cell_type": "code",
   "execution_count": 7,
   "id": "d8cb8315",
   "metadata": {},
   "outputs": [
    {
     "name": "stdout",
     "output_type": "stream",
     "text": [
      "Requirement already satisfied: pandas in /home/ec2-user/anaconda3/envs/Braket/lib/python3.7/site-packages (1.1.4)\n",
      "Collecting pandas\n",
      "  Downloading pandas-1.3.5-cp37-cp37m-manylinux_2_17_x86_64.manylinux2014_x86_64.whl (11.3 MB)\n",
      "\u001b[K     |████████████████████████████████| 11.3 MB 29.1 MB/s eta 0:00:01\n",
      "\u001b[?25hRequirement already satisfied: pytz>=2017.3 in /home/ec2-user/anaconda3/envs/Braket/lib/python3.7/site-packages (from pandas) (2021.3)\n",
      "Requirement already satisfied: python-dateutil>=2.7.3 in /home/ec2-user/anaconda3/envs/Braket/lib/python3.7/site-packages (from pandas) (2.8.2)\n",
      "Requirement already satisfied: numpy>=1.17.3 in /home/ec2-user/anaconda3/envs/Braket/lib/python3.7/site-packages (from pandas) (1.19.2)\n",
      "Requirement already satisfied: six>=1.5 in /home/ec2-user/anaconda3/envs/Braket/lib/python3.7/site-packages (from python-dateutil>=2.7.3->pandas) (1.15.0)\n",
      "Installing collected packages: pandas\n",
      "  Attempting uninstall: pandas\n",
      "    Found existing installation: pandas 1.1.4\n",
      "    Uninstalling pandas-1.1.4:\n",
      "      Successfully uninstalled pandas-1.1.4\n",
      "Successfully installed pandas-1.3.5\n",
      "Note: you may need to restart the kernel to use updated packages.\n"
     ]
    }
   ],
   "source": [
    "pip install pandas --upgrade"
   ]
  },
  {
   "cell_type": "code",
   "execution_count": 1,
   "id": "7fa543d1",
   "metadata": {},
   "outputs": [],
   "source": [
    "import logging\n",
    "from binance.spot import Spot as Client\n",
    "from binance.lib.utils import config_logging\n",
    "# from dimod import Binary\n",
    "import pandas as pd\n",
    "import pickle\n",
    "import numpy as np\n",
    "from docplex.mp.model import Model\n",
    "import networkx as nx"
   ]
  },
  {
   "cell_type": "code",
   "execution_count": 2,
   "id": "92af030d",
   "metadata": {},
   "outputs": [],
   "source": [
    "from dwave.system import LeapHybridSampler, DWaveSampler, EmbeddingComposite"
   ]
  },
  {
   "cell_type": "code",
   "execution_count": 3,
   "id": "3f44fc58",
   "metadata": {},
   "outputs": [],
   "source": [
    "#binance_data = pd.read_pickle(r'binance_bidaskprice_data.pckl')\n",
    "binance_data = pickle.load(open(r'binance_bidaskprice_data.pckl', 'rb'))\n"
   ]
  },
  {
   "cell_type": "code",
   "execution_count": 4,
   "id": "53154988",
   "metadata": {},
   "outputs": [],
   "source": [
    "binance_data = pickle.load(open(r'binance_bidaskprice_data.pckl', 'rb'))\n",
    "\n",
    "binance_data = binance_data.sample(150, random_state=15962)\n",
    "binance_data['bidPrice'] = binance_data['bidPrice'].astype(float)\n",
    "binance_data = binance_data[binance_data['bidPrice'] != 0]\n",
    "\n",
    "df = binance_data.copy()\n",
    "df.reset_index(drop=True, inplace=True)\n",
    "df.columns = ['From', 'To', 'AvgPrice']\n",
    "\n",
    "df['AvgPrice'] = df['AvgPrice'].astype(float)\n",
    "cij = df.values\n",
    "\n",
    "numEdges = len(df)"
   ]
  },
  {
   "cell_type": "code",
   "execution_count": 5,
   "id": "9f966427",
   "metadata": {},
   "outputs": [],
   "source": [
    "from dimod.binary.binary_quadratic_model import BinaryQuadraticModel\n",
    "\n",
    "#mdl = Model('classical_solver')\n",
    "mdl = BinaryQuadraticModel('SPIN')\n",
    "\n",
    "#x0 = mdl.binary_var_list(numEdges)"
   ]
  },
  {
   "cell_type": "code",
   "execution_count": 6,
   "id": "30836961",
   "metadata": {},
   "outputs": [],
   "source": [
    "# Dwave\n",
    "from dimod import Binary\n",
    "#import dimod.binary\n",
    "x0 = [Binary(label=f'x_{i}') for i in range(numEdges)]"
   ]
  },
  {
   "cell_type": "code",
   "execution_count": 7,
   "id": "a89cf9ac",
   "metadata": {},
   "outputs": [],
   "source": [
    "profit = 0\n",
    "\n",
    "for i in range(numEdges):\n",
    "    profit += x0[i] * np.log(cij[i, 2])\n",
    "\n",
    "in_out_constraint = 0"
   ]
  },
  {
   "cell_type": "code",
   "execution_count": 8,
   "id": "8fee6ca0",
   "metadata": {},
   "outputs": [],
   "source": [
    "for node in df['From'].unique():\n",
    "    out_ix = df[df['From'] == node].index.values\n",
    "    in_ix = df[df['To'] == node].index.values\n",
    "\n",
    "    # Dwave\n",
    "    in_out_constraint += (sum([x0[n] for n in out_ix]) - sum([x0[n] for n in in_ix]))**2\n",
    "    #mdl.add_constraint(sum([x0[n] for n in out_ix]) == sum([x0[n] for n in in_ix]))"
   ]
  },
  {
   "cell_type": "code",
   "execution_count": 9,
   "id": "2bd5bdd4",
   "metadata": {},
   "outputs": [],
   "source": [
    "pass_constraint = 0\n",
    "for node in df['From'].unique():\n",
    "    out_ix = df[df['From'] == node].index.values\n",
    "\n",
    "    # Dwave\n",
    "    pass_constraint += sum([x0[n] for n in out_ix])*(sum([x0[n] for n in out_ix])-1)\n",
    "    #mdl.add_constraint(sum([x0[n] for n in out_ix]) <= 1)"
   ]
  },
  {
   "cell_type": "code",
   "execution_count": 10,
   "id": "199e5669",
   "metadata": {},
   "outputs": [],
   "source": [
    "# Dwave\n",
    "\n",
    "bqm_obj = -(profit-100*in_out_constraint-100*pass_constraint)\n",
    "\n",
    "#mdl.minimize(-profit)\n",
    "\n",
    "# res = mdl.solve()\n",
    "# print(res)"
   ]
  },
  {
   "cell_type": "code",
   "execution_count": 11,
   "id": "01005f1c",
   "metadata": {},
   "outputs": [
    {
     "ename": "AttributeError",
     "evalue": "'BinaryQuadraticModel' object has no attribute 'base'",
     "output_type": "error",
     "traceback": [
      "\u001b[0;31m---------------------------------------------------------------------------\u001b[0m",
      "\u001b[0;31mAttributeError\u001b[0m                            Traceback (most recent call last)",
      "\u001b[0;32m<ipython-input-11-7f49b0267f42>\u001b[0m in \u001b[0;36m<module>\u001b[0;34m\u001b[0m\n\u001b[1;32m      2\u001b[0m \u001b[0msampler\u001b[0m \u001b[0;34m=\u001b[0m \u001b[0mLeapHybridSampler\u001b[0m\u001b[0;34m(\u001b[0m\u001b[0mtoken\u001b[0m \u001b[0;34m=\u001b[0m \u001b[0;34m'eUXo-4ef9208f1c6913ab355417e0815a232e7154864a'\u001b[0m\u001b[0;34m)\u001b[0m\u001b[0;34m\u001b[0m\u001b[0;34m\u001b[0m\u001b[0m\n\u001b[1;32m      3\u001b[0m \u001b[0msampler\u001b[0m \u001b[0;34m=\u001b[0m \u001b[0mEmbeddingComposite\u001b[0m\u001b[0;34m(\u001b[0m\u001b[0mDWaveSampler\u001b[0m\u001b[0;34m(\u001b[0m\u001b[0mtoken\u001b[0m\u001b[0;34m=\u001b[0m\u001b[0;34m'eUXo-4ef9208f1c6913ab355417e0815a232e7154864a'\u001b[0m\u001b[0;34m)\u001b[0m\u001b[0;34m)\u001b[0m\u001b[0;34m\u001b[0m\u001b[0;34m\u001b[0m\u001b[0m\n\u001b[0;32m----> 4\u001b[0;31m \u001b[0msample\u001b[0m \u001b[0;34m=\u001b[0m \u001b[0msampler\u001b[0m\u001b[0;34m.\u001b[0m\u001b[0msample\u001b[0m\u001b[0;34m(\u001b[0m\u001b[0mbqm_obj\u001b[0m\u001b[0;34m,\u001b[0m \u001b[0mlabel\u001b[0m \u001b[0;34m=\u001b[0m \u001b[0;34m'arbitrage'\u001b[0m\u001b[0;34m)\u001b[0m\u001b[0;34m\u001b[0m\u001b[0;34m\u001b[0m\u001b[0m\n\u001b[0m\u001b[1;32m      5\u001b[0m \u001b[0;34m\u001b[0m\u001b[0m\n\u001b[1;32m      6\u001b[0m \u001b[0mt\u001b[0m \u001b[0;34m=\u001b[0m \u001b[0msample\u001b[0m\u001b[0;34m.\u001b[0m\u001b[0mto_pandas_dataframe\u001b[0m\u001b[0;34m(\u001b[0m\u001b[0msample\u001b[0m\u001b[0;34m)\u001b[0m\u001b[0;34m\u001b[0m\u001b[0;34m\u001b[0m\u001b[0m\n",
      "\u001b[0;32m~/anaconda3/envs/Braket/lib/python3.7/site-packages/dwave/system/composites/embedding.py\u001b[0m in \u001b[0;36msample\u001b[0;34m(self, bqm, chain_strength, chain_break_method, chain_break_fraction, embedding_parameters, return_embedding, warnings, **parameters)\u001b[0m\n\u001b[1;32m    245\u001b[0m \u001b[0;34m\u001b[0m\u001b[0m\n\u001b[1;32m    246\u001b[0m         bqm_embedded = embedding.embed_bqm(bqm, chain_strength=chain_strength,\n\u001b[0;32m--> 247\u001b[0;31m                                            smear_vartype=dimod.SPIN)\n\u001b[0m\u001b[1;32m    248\u001b[0m \u001b[0;34m\u001b[0m\u001b[0m\n\u001b[1;32m    249\u001b[0m         \u001b[0;32mif\u001b[0m \u001b[0mwarnings\u001b[0m \u001b[0;32mis\u001b[0m \u001b[0;32mNone\u001b[0m\u001b[0;34m:\u001b[0m\u001b[0;34m\u001b[0m\u001b[0;34m\u001b[0m\u001b[0m\n",
      "\u001b[0;32m~/anaconda3/envs/Braket/lib/python3.7/site-packages/dwave/embedding/transforms.py\u001b[0m in \u001b[0;36membed_bqm\u001b[0;34m(self, source_bqm, chain_strength, smear_vartype)\u001b[0m\n\u001b[1;32m    240\u001b[0m         \u001b[0;31m# source_bqm if it's shapeable, otherwise use AdjVectorBQM\u001b[0m\u001b[0;34m\u001b[0m\u001b[0;34m\u001b[0m\u001b[0;34m\u001b[0m\u001b[0m\n\u001b[1;32m    241\u001b[0m         \u001b[0;32mif\u001b[0m \u001b[0msource_bqm\u001b[0m\u001b[0;34m.\u001b[0m\u001b[0mshapeable\u001b[0m\u001b[0;34m(\u001b[0m\u001b[0;34m)\u001b[0m\u001b[0;34m:\u001b[0m\u001b[0;34m\u001b[0m\u001b[0;34m\u001b[0m\u001b[0m\n\u001b[0;32m--> 242\u001b[0;31m             \u001b[0mtarget_bqm\u001b[0m \u001b[0;34m=\u001b[0m \u001b[0msource_bqm\u001b[0m\u001b[0;34m.\u001b[0m\u001b[0mbase\u001b[0m\u001b[0;34m.\u001b[0m\u001b[0mempty\u001b[0m\u001b[0;34m(\u001b[0m\u001b[0msmear_vartype\u001b[0m\u001b[0;34m)\u001b[0m\u001b[0;34m\u001b[0m\u001b[0;34m\u001b[0m\u001b[0m\n\u001b[0m\u001b[1;32m    243\u001b[0m         \u001b[0;32melse\u001b[0m\u001b[0;34m:\u001b[0m\u001b[0;34m\u001b[0m\u001b[0;34m\u001b[0m\u001b[0m\n\u001b[1;32m    244\u001b[0m             \u001b[0mtarget_bqm\u001b[0m \u001b[0;34m=\u001b[0m \u001b[0mdimod\u001b[0m\u001b[0;34m.\u001b[0m\u001b[0mAdjVectorBQM\u001b[0m\u001b[0;34m.\u001b[0m\u001b[0mempty\u001b[0m\u001b[0;34m(\u001b[0m\u001b[0msmear_vartype\u001b[0m\u001b[0;34m)\u001b[0m\u001b[0;34m\u001b[0m\u001b[0;34m\u001b[0m\u001b[0m\n",
      "\u001b[0;31mAttributeError\u001b[0m: 'BinaryQuadraticModel' object has no attribute 'base'"
     ]
    }
   ],
   "source": [
    "# Dwave\n",
    "sampler = LeapHybridSampler(token = 'eUXo-4ef9208f1c6913ab355417e0815a232e7154864a')\n",
    "sampler = EmbeddingComposite(DWaveSampler(token='eUXo-4ef9208f1c6913ab355417e0815a232e7154864a'))\n",
    "sample = sampler.sample(bqm_obj, label = 'arbitrage')\n",
    "\n",
    "t = sample.to_pandas_dataframe(sample)\n",
    "\n",
    "t2 = t['sample'].values[0]"
   ]
  },
  {
   "cell_type": "code",
   "execution_count": 21,
   "id": "f7aaf0b3",
   "metadata": {},
   "outputs": [
    {
     "ename": "NameError",
     "evalue": "name 'res' is not defined",
     "output_type": "error",
     "traceback": [
      "\u001b[0;31m---------------------------------------------------------------------------\u001b[0m",
      "\u001b[0;31mNameError\u001b[0m                                 Traceback (most recent call last)",
      "\u001b[0;32m<ipython-input-21-f80de40d23ea>\u001b[0m in \u001b[0;36m<module>\u001b[0;34m\u001b[0m\n\u001b[0;32m----> 1\u001b[0;31m \u001b[0mt2\u001b[0m \u001b[0;34m=\u001b[0m \u001b[0mres\u001b[0m\u001b[0;34m.\u001b[0m\u001b[0mget_all_values\u001b[0m\u001b[0;34m(\u001b[0m\u001b[0;34m)\u001b[0m\u001b[0;34m\u001b[0m\u001b[0;34m\u001b[0m\u001b[0m\n\u001b[0m\u001b[1;32m      2\u001b[0m \u001b[0;31m#t2 = res.get_values()\u001b[0m\u001b[0;34m\u001b[0m\u001b[0;34m\u001b[0m\u001b[0;34m\u001b[0m\u001b[0m\n",
      "\u001b[0;31mNameError\u001b[0m: name 'res' is not defined"
     ]
    }
   ],
   "source": [
    "t2 = res.get_all_values()\n",
    "#t2 = res.get_values()"
   ]
  },
  {
   "cell_type": "code",
   "execution_count": null,
   "id": "27b13944",
   "metadata": {},
   "outputs": [],
   "source": [
    "edge_hits = []\n",
    "\n",
    "for k, v in enumerate(t2):\n",
    "    if v == 1:\n",
    "        edge_hits.append(k)\n",
    "\n",
    "temp = df.loc[edge_hits]"
   ]
  },
  {
   "cell_type": "code",
   "execution_count": null,
   "id": "4c381f0f",
   "metadata": {},
   "outputs": [],
   "source": [
    "g = nx.DiGraph()\n",
    "g.add_edges_from(zip(temp['From'], temp['To']))"
   ]
  },
  {
   "cell_type": "code",
   "execution_count": null,
   "id": "0fc6f78a",
   "metadata": {},
   "outputs": [],
   "source": [
    "for i in range(len(temp)):\n",
    "    cycle = nx.algorithms.cycles.find_cycle(g, list(g.nodes)[i])\n",
    "\n",
    "    print(i)\n",
    "    print(len(cycle))\n",
    "    print(cycle)\n",
    "\n",
    "    c = pd.DataFrame(cycle)\n",
    "    c.columns = ['From', 'To']\n",
    "    c = c.merge(df, how='inner', on=['From', 'To'])\n",
    "    print(c['AvgPrice'].cumprod().tail(1).values[0])"
   ]
  },
  {
   "cell_type": "code",
   "execution_count": null,
   "id": "26bbdfc7",
   "metadata": {},
   "outputs": [],
   "source": [
    "cycle = pd.DataFrame(nx.algorithms.cycles.find_cycle(g, 'USDT'))\n",
    "cycle.columns = ['From', 'To']\n",
    "cycle = cycle.merge(df, how='inner', on=['From', 'To'])\n",
    "cycle['AvgPrice'].cumprod().tail(1).values[0]"
   ]
  }
 ],
 "metadata": {
  "kernelspec": {
   "display_name": "conda_braket",
   "language": "python",
   "name": "conda_braket"
  },
  "language_info": {
   "codemirror_mode": {
    "name": "ipython",
    "version": 3
   },
   "file_extension": ".py",
   "mimetype": "text/x-python",
   "name": "python",
   "nbconvert_exporter": "python",
   "pygments_lexer": "ipython3",
   "version": "3.7.11"
  }
 },
 "nbformat": 4,
 "nbformat_minor": 5
}
